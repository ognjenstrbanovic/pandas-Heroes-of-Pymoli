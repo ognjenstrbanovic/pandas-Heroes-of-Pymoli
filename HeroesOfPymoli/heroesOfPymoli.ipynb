{
 "cells": [
  {
   "cell_type": "code",
   "execution_count": 1,
   "metadata": {},
   "outputs": [],
   "source": [
    "import pandas as pd"
   ]
  },
  {
   "cell_type": "code",
   "execution_count": 2,
   "metadata": {},
   "outputs": [
    {
     "data": {
      "text/plain": [
       "'/Users/ognjenstrbanovic/Desktop/Boot Camp/pandas-challenge/HeroesOfPymoli'"
      ]
     },
     "execution_count": 2,
     "metadata": {},
     "output_type": "execute_result"
    }
   ],
   "source": [
    "pwd"
   ]
  },
  {
   "cell_type": "code",
   "execution_count": 3,
   "metadata": {},
   "outputs": [
    {
     "data": {
      "text/html": [
       "<div>\n",
       "<style scoped>\n",
       "    .dataframe tbody tr th:only-of-type {\n",
       "        vertical-align: middle;\n",
       "    }\n",
       "\n",
       "    .dataframe tbody tr th {\n",
       "        vertical-align: top;\n",
       "    }\n",
       "\n",
       "    .dataframe thead th {\n",
       "        text-align: right;\n",
       "    }\n",
       "</style>\n",
       "<table border=\"1\" class=\"dataframe\">\n",
       "  <thead>\n",
       "    <tr style=\"text-align: right;\">\n",
       "      <th></th>\n",
       "      <th>Purchase ID</th>\n",
       "      <th>SN</th>\n",
       "      <th>Age</th>\n",
       "      <th>Gender</th>\n",
       "      <th>Item ID</th>\n",
       "      <th>Item Name</th>\n",
       "      <th>Price</th>\n",
       "    </tr>\n",
       "  </thead>\n",
       "  <tbody>\n",
       "    <tr>\n",
       "      <td>0</td>\n",
       "      <td>0</td>\n",
       "      <td>Lisim78</td>\n",
       "      <td>20</td>\n",
       "      <td>Male</td>\n",
       "      <td>108</td>\n",
       "      <td>Extraction, Quickblade Of Trembling Hands</td>\n",
       "      <td>3.53</td>\n",
       "    </tr>\n",
       "    <tr>\n",
       "      <td>1</td>\n",
       "      <td>1</td>\n",
       "      <td>Lisovynya38</td>\n",
       "      <td>40</td>\n",
       "      <td>Male</td>\n",
       "      <td>143</td>\n",
       "      <td>Frenzied Scimitar</td>\n",
       "      <td>1.56</td>\n",
       "    </tr>\n",
       "    <tr>\n",
       "      <td>2</td>\n",
       "      <td>2</td>\n",
       "      <td>Ithergue48</td>\n",
       "      <td>24</td>\n",
       "      <td>Male</td>\n",
       "      <td>92</td>\n",
       "      <td>Final Critic</td>\n",
       "      <td>4.88</td>\n",
       "    </tr>\n",
       "    <tr>\n",
       "      <td>3</td>\n",
       "      <td>3</td>\n",
       "      <td>Chamassasya86</td>\n",
       "      <td>24</td>\n",
       "      <td>Male</td>\n",
       "      <td>100</td>\n",
       "      <td>Blindscythe</td>\n",
       "      <td>3.27</td>\n",
       "    </tr>\n",
       "    <tr>\n",
       "      <td>4</td>\n",
       "      <td>4</td>\n",
       "      <td>Iskosia90</td>\n",
       "      <td>23</td>\n",
       "      <td>Male</td>\n",
       "      <td>131</td>\n",
       "      <td>Fury</td>\n",
       "      <td>1.44</td>\n",
       "    </tr>\n",
       "    <tr>\n",
       "      <td>...</td>\n",
       "      <td>...</td>\n",
       "      <td>...</td>\n",
       "      <td>...</td>\n",
       "      <td>...</td>\n",
       "      <td>...</td>\n",
       "      <td>...</td>\n",
       "      <td>...</td>\n",
       "    </tr>\n",
       "    <tr>\n",
       "      <td>775</td>\n",
       "      <td>775</td>\n",
       "      <td>Aethedru70</td>\n",
       "      <td>21</td>\n",
       "      <td>Female</td>\n",
       "      <td>60</td>\n",
       "      <td>Wolf</td>\n",
       "      <td>3.54</td>\n",
       "    </tr>\n",
       "    <tr>\n",
       "      <td>776</td>\n",
       "      <td>776</td>\n",
       "      <td>Iral74</td>\n",
       "      <td>21</td>\n",
       "      <td>Male</td>\n",
       "      <td>164</td>\n",
       "      <td>Exiled Doomblade</td>\n",
       "      <td>1.63</td>\n",
       "    </tr>\n",
       "    <tr>\n",
       "      <td>777</td>\n",
       "      <td>777</td>\n",
       "      <td>Yathecal72</td>\n",
       "      <td>20</td>\n",
       "      <td>Male</td>\n",
       "      <td>67</td>\n",
       "      <td>Celeste, Incarnation of the Corrupted</td>\n",
       "      <td>3.46</td>\n",
       "    </tr>\n",
       "    <tr>\n",
       "      <td>778</td>\n",
       "      <td>778</td>\n",
       "      <td>Sisur91</td>\n",
       "      <td>7</td>\n",
       "      <td>Male</td>\n",
       "      <td>101</td>\n",
       "      <td>Final Critic</td>\n",
       "      <td>4.19</td>\n",
       "    </tr>\n",
       "    <tr>\n",
       "      <td>779</td>\n",
       "      <td>779</td>\n",
       "      <td>Ennrian78</td>\n",
       "      <td>24</td>\n",
       "      <td>Male</td>\n",
       "      <td>50</td>\n",
       "      <td>Dawn</td>\n",
       "      <td>4.60</td>\n",
       "    </tr>\n",
       "  </tbody>\n",
       "</table>\n",
       "<p>780 rows × 7 columns</p>\n",
       "</div>"
      ],
      "text/plain": [
       "     Purchase ID             SN  Age  Gender  Item ID  \\\n",
       "0              0        Lisim78   20    Male      108   \n",
       "1              1    Lisovynya38   40    Male      143   \n",
       "2              2     Ithergue48   24    Male       92   \n",
       "3              3  Chamassasya86   24    Male      100   \n",
       "4              4      Iskosia90   23    Male      131   \n",
       "..           ...            ...  ...     ...      ...   \n",
       "775          775     Aethedru70   21  Female       60   \n",
       "776          776         Iral74   21    Male      164   \n",
       "777          777     Yathecal72   20    Male       67   \n",
       "778          778        Sisur91    7    Male      101   \n",
       "779          779      Ennrian78   24    Male       50   \n",
       "\n",
       "                                     Item Name  Price  \n",
       "0    Extraction, Quickblade Of Trembling Hands   3.53  \n",
       "1                            Frenzied Scimitar   1.56  \n",
       "2                                 Final Critic   4.88  \n",
       "3                                  Blindscythe   3.27  \n",
       "4                                         Fury   1.44  \n",
       "..                                         ...    ...  \n",
       "775                                       Wolf   3.54  \n",
       "776                           Exiled Doomblade   1.63  \n",
       "777      Celeste, Incarnation of the Corrupted   3.46  \n",
       "778                               Final Critic   4.19  \n",
       "779                                       Dawn   4.60  \n",
       "\n",
       "[780 rows x 7 columns]"
      ]
     },
     "execution_count": 3,
     "metadata": {},
     "output_type": "execute_result"
    }
   ],
   "source": [
    "# File to Load\n",
    "file_to_load = \"purchase_data.csv\"\n",
    "# Read Purchasing File and store into Pandas data frame\n",
    "purchase_data = pd.read_csv(file_to_load)\n",
    "# Preview the first five rows of the DataFrame with the \".head()\" function\n",
    "purchase_data"
   ]
  },
  {
   "cell_type": "code",
   "execution_count": 4,
   "metadata": {},
   "outputs": [
    {
     "data": {
      "text/html": [
       "<div>\n",
       "<style scoped>\n",
       "    .dataframe tbody tr th:only-of-type {\n",
       "        vertical-align: middle;\n",
       "    }\n",
       "\n",
       "    .dataframe tbody tr th {\n",
       "        vertical-align: top;\n",
       "    }\n",
       "\n",
       "    .dataframe thead th {\n",
       "        text-align: right;\n",
       "    }\n",
       "</style>\n",
       "<table border=\"1\" class=\"dataframe\">\n",
       "  <thead>\n",
       "    <tr style=\"text-align: right;\">\n",
       "      <th></th>\n",
       "      <th>Total Players</th>\n",
       "    </tr>\n",
       "  </thead>\n",
       "  <tbody>\n",
       "    <tr>\n",
       "      <td>0</td>\n",
       "      <td>576</td>\n",
       "    </tr>\n",
       "  </tbody>\n",
       "</table>\n",
       "</div>"
      ],
      "text/plain": [
       "   Total Players\n",
       "0            576"
      ]
     },
     "execution_count": 4,
     "metadata": {},
     "output_type": "execute_result"
    }
   ],
   "source": [
    "# Display the total number of players\n",
    "total_number_of_players = purchase_data[\"SN\"].value_counts()\n",
    "# With the \".value_counts()\" function, I found that the total number of (unique) players is equal to 576\n",
    "# I am using the count function, instead of just plugging in the integer, for the reusability of the code\n",
    "total_number_of_players_dict = [{\"Total Players\": total_number_of_players.count()}]\n",
    "# Convert this into a \"DataFrame\"\n",
    "total_number_of_players_df = pd.DataFrame(total_number_of_players_dict)\n",
    "total_number_of_players_df"
   ]
  },
  {
   "cell_type": "code",
   "execution_count": 5,
   "metadata": {},
   "outputs": [],
   "source": [
    "# Run basic calculations to obtain number of unique items, average price, etc.\n",
    "# For obtaining the number of unique items, we can do .value_counts() on Item ID or Item Name; I chose Item ID\n",
    "number_of_unique_items = purchase_data[\"Item ID\"].value_counts()\n",
    "# We found the number of unique items to be equal to 183\n",
    "number_of_unique_items_dict = [{\"Number of Unique Items\": 183}]\n",
    "number_of_unique_items_df = pd.DataFrame(number_of_unique_items_dict)"
   ]
  },
  {
   "cell_type": "code",
   "execution_count": 6,
   "metadata": {},
   "outputs": [],
   "source": [
    "# Before finding the mean of the Price column, give the displayed data cleaner formatting\n",
    "average_purchase_price = purchase_data[\"Price\"].mean()\n",
    "average_purchase_price_dict = [{\"Average Price\": average_purchase_price}]\n",
    "average_purchase_price_df = pd.DataFrame(average_purchase_price_dict)\n",
    "# Optional: give the displayed data cleaner formatting\n",
    "# The formatting is: two decimal places with a dollar sign\n",
    "average_purchase_price_df[\"Average Price\"] = average_purchase_price_df[\"Average Price\"].map(\"${:.2f}\".format)"
   ]
  },
  {
   "cell_type": "code",
   "execution_count": 7,
   "metadata": {},
   "outputs": [],
   "source": [
    "number_of_purchases = purchase_data[\"Purchase ID\"].count()\n",
    "number_of_purchases_dict = [{\"Number of Purchases\": number_of_purchases}]\n",
    "number_of_purchases_df = pd.DataFrame(number_of_purchases_dict)"
   ]
  },
  {
   "cell_type": "code",
   "execution_count": 8,
   "metadata": {},
   "outputs": [],
   "source": [
    "# Only one item is bought at the purchase price each time, so we only need to find the sum of the purchase prices to find the total revenue\n",
    "total_revenue = purchase_data[\"Price\"].sum()\n",
    "total_revenue_dict = [{\"Total Revenue\": total_revenue}]\n",
    "total_revenue_df = pd.DataFrame(total_revenue_dict)"
   ]
  },
  {
   "cell_type": "code",
   "execution_count": 9,
   "metadata": {},
   "outputs": [
    {
     "data": {
      "text/html": [
       "<div>\n",
       "<style scoped>\n",
       "    .dataframe tbody tr th:only-of-type {\n",
       "        vertical-align: middle;\n",
       "    }\n",
       "\n",
       "    .dataframe tbody tr th {\n",
       "        vertical-align: top;\n",
       "    }\n",
       "\n",
       "    .dataframe thead th {\n",
       "        text-align: right;\n",
       "    }\n",
       "</style>\n",
       "<table border=\"1\" class=\"dataframe\">\n",
       "  <thead>\n",
       "    <tr style=\"text-align: right;\">\n",
       "      <th></th>\n",
       "      <th>Total Players</th>\n",
       "      <th>Number of Unique Items</th>\n",
       "      <th>Number of Purchases</th>\n",
       "      <th>Total Revenue</th>\n",
       "    </tr>\n",
       "  </thead>\n",
       "  <tbody>\n",
       "    <tr>\n",
       "      <td>0</td>\n",
       "      <td>576</td>\n",
       "      <td>183</td>\n",
       "      <td>780</td>\n",
       "      <td>2379.77</td>\n",
       "    </tr>\n",
       "  </tbody>\n",
       "</table>\n",
       "</div>"
      ],
      "text/plain": [
       "   Total Players  Number of Unique Items  Number of Purchases  Total Revenue\n",
       "0            576                     183                  780        2379.77"
      ]
     },
     "execution_count": 9,
     "metadata": {},
     "output_type": "execute_result"
    }
   ],
   "source": [
    "# Create a summary data frame to hold the results\n",
    "# I found the concatenate function via Google; it operates along the columns (x) axis (from left to right)\n",
    "total_purchasing_analysis_summary_table = pd.concat([total_number_of_players_df, number_of_unique_items_df, number_of_purchases_df, total_revenue_df], sort = False, axis = 1)\n",
    "# Display the summary data frame\n",
    "total_purchasing_analysis_summary_table"
   ]
  },
  {
   "cell_type": "code",
   "execution_count": 10,
   "metadata": {},
   "outputs": [],
   "source": [
    "# Percentage and Count of Male Players\n",
    "# In this case, \".loc\" allows us to locate all of the instances of \"Male\" in the Gender column of the purchase_data DataFrame\n",
    "male_players = purchase_data.loc[purchase_data[\"Gender\"] == \"Male\"]\n",
    "# Now, \".value_counts()\" returns the count of unique male players (if their SN appears more than once, it will only be counted once)\n",
    "unique_male_players = male_players[\"SN\"].value_counts()\n",
    "unique_male_players_percentage = unique_male_players.count() / total_number_of_players.count()\n",
    "# I am formatting this so that it is a percentage with two decimal places; I am using a function built into Python (not imported from the pandas library)\n",
    "unique_male_players_percentage_formatted = format(unique_male_players_percentage, \".2%\")"
   ]
  },
  {
   "cell_type": "code",
   "execution_count": 11,
   "metadata": {},
   "outputs": [],
   "source": [
    "# Percentage and Count of Female Players\n",
    "female_players = purchase_data.loc[purchase_data[\"Gender\"] == \"Female\"]\n",
    "unique_female_players = female_players[\"SN\"].value_counts()\n",
    "unique_female_players_percentage = unique_female_players.count() / total_number_of_players.count()\n",
    "unique_female_players_percentage_formatted = format(unique_female_players_percentage, \".2%\")"
   ]
  },
  {
   "cell_type": "code",
   "execution_count": 12,
   "metadata": {},
   "outputs": [],
   "source": [
    "# Percentage and Count of Other / Non-Disclosed\n",
    "# Subtracting the unique male and female players from the total number of unique players gets us the above\n",
    "other_players_count = total_number_of_players.count() - (unique_male_players.count() + unique_female_players.count())\n",
    "other_players_percentage = other_players_count / total_number_of_players.count()\n",
    "other_players_percentage_formatted = format(other_players_percentage, \".2%\")"
   ]
  },
  {
   "cell_type": "code",
   "execution_count": 17,
   "metadata": {},
   "outputs": [
    {
     "data": {
      "text/html": [
       "<div>\n",
       "<style scoped>\n",
       "    .dataframe tbody tr th:only-of-type {\n",
       "        vertical-align: middle;\n",
       "    }\n",
       "\n",
       "    .dataframe tbody tr th {\n",
       "        vertical-align: top;\n",
       "    }\n",
       "\n",
       "    .dataframe thead th {\n",
       "        text-align: right;\n",
       "    }\n",
       "</style>\n",
       "<table border=\"1\" class=\"dataframe\">\n",
       "  <thead>\n",
       "    <tr style=\"text-align: right;\">\n",
       "      <th></th>\n",
       "      <th>Total Count</th>\n",
       "      <th>Percentage of Players</th>\n",
       "    </tr>\n",
       "    <tr>\n",
       "      <th></th>\n",
       "      <th></th>\n",
       "      <th></th>\n",
       "    </tr>\n",
       "  </thead>\n",
       "  <tbody>\n",
       "    <tr>\n",
       "      <td>Male</td>\n",
       "      <td>484</td>\n",
       "      <td>84.03%</td>\n",
       "    </tr>\n",
       "    <tr>\n",
       "      <td>Female</td>\n",
       "      <td>81</td>\n",
       "      <td>14.06%</td>\n",
       "    </tr>\n",
       "    <tr>\n",
       "      <td>Other / Non-Disclosed</td>\n",
       "      <td>11</td>\n",
       "      <td>1.91%</td>\n",
       "    </tr>\n",
       "  </tbody>\n",
       "</table>\n",
       "</div>"
      ],
      "text/plain": [
       "                       Total Count Percentage of Players\n",
       "                                                        \n",
       "Male                           484                84.03%\n",
       "Female                          81                14.06%\n",
       "Other / Non-Disclosed           11                 1.91%"
      ]
     },
     "execution_count": 17,
     "metadata": {},
     "output_type": "execute_result"
    }
   ],
   "source": [
    "# Convert a single dictionary containing lists into a dataframe\n",
    "gender_demographics_dict = {\"\": [\"Male\", \"Female\", \"Other / Non-Disclosed\"], \"Total Count\": [unique_male_players.count(), unique_female_players.count(), other_players_count], \"Percentage of Players\": [unique_male_players_percentage_formatted, unique_female_players_percentage_formatted, other_players_percentage_formatted]}\n",
    "gender_demographics_df = pd.DataFrame(gender_demographics_dict)\n",
    "# Set the new index to Gender\n",
    "gender_demographics_dataframe = gender_demographics_df.set_index(\"\")\n",
    "gender_demographics_dataframe"
   ]
  },
  {
   "cell_type": "code",
   "execution_count": 41,
   "metadata": {},
   "outputs": [],
   "source": [
    "# Run basic calculations to obtain purchase count, avg. purchase price, avg. purchase total per person etc. by gender\n",
    "# For male, female, and other (or non-disclosed) players, count the number of times a purchase ID was generated to get their respective purchase counts\n",
    "male_purchase_count = male_players[\"Purchase ID\"].count()\n",
    "female_purchase_count = female_players[\"Purchase ID\"].count()\n",
    "other_purchase_count = purchase_data[\"Purchase ID\"].count() - male_purchase_count - female_purchase_count"
   ]
  },
  {
   "cell_type": "code",
   "execution_count": 60,
   "metadata": {},
   "outputs": [],
   "source": [
    "# The below is the code for total purchase value by gender type\n",
    "male_total_purchase_value = male_players[\"Price\"].sum()\n",
    "male_total_purchase_value_formatted = \"${:.2f}\".format(male_total_purchase_value)\n",
    "female_total_purchase_value = female_players[\"Price\"].sum()\n",
    "female_total_purchase_value_formatted = \"${:.2f}\".format(female_total_purchase_value)\n",
    "other_total_purchase_value = purchase_data[\"Price\"].sum() - male_total_purchase_value - female_total_purchase_value\n",
    "other_total_purchase_value_formatted = \"${:.2f}\".format(other_total_purchase_value)"
   ]
  },
  {
   "cell_type": "code",
   "execution_count": 67,
   "metadata": {},
   "outputs": [],
   "source": [
    "# The following calculates the avg. purchase price per gender\n",
    "male_average_purchase_price = male_total_purchase_value / male_purchase_count\n",
    "male_average_purchase_price_formatted = \"${:.2f}\".format(male_average_purchase_price)\n",
    "female_average_purchase_price = female_total_purchase_value / female_purchase_count\n",
    "female_average_purchase_price_formatted = \"${:.2f}\".format(female_average_purchase_price)\n",
    "other_average_purchase_price = other_total_purchase_value / other_purchase_count\n",
    "other_average_purchase_price_formatted = \"${:.2f}\".format(other_average_purchase_price)"
   ]
  },
  {
   "cell_type": "code",
   "execution_count": null,
   "metadata": {},
   "outputs": [],
   "source": []
  }
 ],
 "metadata": {
  "kernelspec": {
   "display_name": "Python 3",
   "language": "python",
   "name": "python3"
  },
  "language_info": {
   "codemirror_mode": {
    "name": "ipython",
    "version": 3
   },
   "file_extension": ".py",
   "mimetype": "text/x-python",
   "name": "python",
   "nbconvert_exporter": "python",
   "pygments_lexer": "ipython3",
   "version": "3.7.4"
  }
 },
 "nbformat": 4,
 "nbformat_minor": 2
}
